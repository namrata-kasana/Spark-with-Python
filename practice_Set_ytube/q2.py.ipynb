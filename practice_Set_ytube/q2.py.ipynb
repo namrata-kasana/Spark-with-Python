{
 "cells": [
  {
   "cell_type": "code",
   "id": "initial_id",
   "metadata": {
    "collapsed": true,
    "ExecuteTime": {
     "end_time": "2024-07-19T12:41:25.282657Z",
     "start_time": "2024-07-19T12:41:25.277933Z"
    }
   },
   "source": [
    "import findspark\n",
    "findspark.init()"
   ],
   "outputs": [],
   "execution_count": 1
  },
  {
   "metadata": {
    "ExecuteTime": {
     "end_time": "2024-07-19T15:59:19.283025Z",
     "start_time": "2024-07-19T15:59:19.272585Z"
    }
   },
   "cell_type": "code",
   "source": [
    "from pyspark.sql import SparkSession\n",
    "from pyspark.sql.functions import *\n",
    "\n",
    "spark = SparkSession.builder.appName(\"q2\").getOrCreate()"
   ],
   "id": "a4166b0857d8cff8",
   "outputs": [],
   "execution_count": 43
  },
  {
   "metadata": {
    "ExecuteTime": {
     "end_time": "2024-07-19T15:59:27.761961Z",
     "start_time": "2024-07-19T15:59:27.705644Z"
    }
   },
   "cell_type": "code",
   "source": [
    "df=spark.read.text('../data/q2.csv')\n",
    "header = df.first()[0]\n",
    "schema = header.split('~|')\n"
   ],
   "id": "ccf10c73358ec4de",
   "outputs": [],
   "execution_count": 44
  },
  {
   "metadata": {
    "ExecuteTime": {
     "end_time": "2024-07-19T15:59:29.882654Z",
     "start_time": "2024-07-19T15:59:29.878134Z"
    }
   },
   "cell_type": "code",
   "source": "header",
   "id": "fd8dd971b64455b0",
   "outputs": [
    {
     "data": {
      "text/plain": [
       "'name~|age~|\"extra\"'"
      ]
     },
     "execution_count": 45,
     "metadata": {},
     "output_type": "execute_result"
    }
   ],
   "execution_count": 45
  },
  {
   "metadata": {
    "ExecuteTime": {
     "end_time": "2024-07-19T16:00:00.364937Z",
     "start_time": "2024-07-19T16:00:00.288615Z"
    }
   },
   "cell_type": "code",
   "source": "data = df.filter(df['value']!=header).rdd.map(lambda x: x[0].split('~|')).toDF(schema)\n",
   "id": "a822c2c0580bd26f",
   "outputs": [],
   "execution_count": 49
  },
  {
   "metadata": {
    "ExecuteTime": {
     "end_time": "2024-07-19T15:59:36.155634Z",
     "start_time": "2024-07-19T15:59:36.090945Z"
    }
   },
   "cell_type": "code",
   "source": "data.show()",
   "id": "d5e9571ccfe316d9",
   "outputs": [
    {
     "name": "stdout",
     "output_type": "stream",
     "text": [
      "+----------+---+-------+\n",
      "|      name|age|\"extra\"|\n",
      "+----------+---+-------+\n",
      "| \"namrata\"| 30| \"test\"|\n",
      "|\"akhilesh\"| 31|\"test2\"|\n",
      "+----------+---+-------+\n",
      "\n"
     ]
    }
   ],
   "execution_count": 47
  },
  {
   "metadata": {},
   "cell_type": "code",
   "outputs": [],
   "execution_count": null,
   "source": "",
   "id": "be0f118a3765e492"
  }
 ],
 "metadata": {
  "kernelspec": {
   "display_name": "Python 3",
   "language": "python",
   "name": "python3"
  },
  "language_info": {
   "codemirror_mode": {
    "name": "ipython",
    "version": 2
   },
   "file_extension": ".py",
   "mimetype": "text/x-python",
   "name": "python",
   "nbconvert_exporter": "python",
   "pygments_lexer": "ipython2",
   "version": "2.7.6"
  }
 },
 "nbformat": 4,
 "nbformat_minor": 5
}
