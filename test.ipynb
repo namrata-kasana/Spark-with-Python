{
 "cells": [
  {
   "cell_type": "code",
   "id": "initial_id",
   "metadata": {
    "collapsed": true,
    "jupyter": {
     "is_executing": true
    }
   },
   "source": [
    "from pyspark.sql import SparkSession\n",
    "\n",
    "# Create a Spark session\n",
    "spark = SparkSession.builder.appName(\"RDDtoDF\").getOrCreate()\n",
    "rdd = spark.sparkContext.parallelize([(1, \"mango\",\"naman\"), (1, \"mando\",\"mridula\"), (2, \"cherry\",\"namrata\")])\n",
    "df = spark.createDataFrame(rdd, [\"id\", \"fruit\"])\n",
    "\n",
    "df.show()\n",
    "# Don't forget to stop the Spark session\n",
    "spark.stop()"
   ],
   "outputs": [],
   "execution_count": null
  },
  {
   "metadata": {},
   "cell_type": "code",
   "outputs": [],
   "execution_count": null,
   "source": "",
   "id": "d0e0be3554cfcca1"
  }
 ],
 "metadata": {
  "kernelspec": {
   "display_name": "Python 3",
   "language": "python",
   "name": "python3"
  },
  "language_info": {
   "codemirror_mode": {
    "name": "ipython",
    "version": 2
   },
   "file_extension": ".py",
   "mimetype": "text/x-python",
   "name": "python",
   "nbconvert_exporter": "python",
   "pygments_lexer": "ipython2",
   "version": "2.7.6"
  }
 },
 "nbformat": 4,
 "nbformat_minor": 5
}
